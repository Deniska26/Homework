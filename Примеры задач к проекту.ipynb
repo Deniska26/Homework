{
 "cells": [
  {
   "cell_type": "code",
   "execution_count": 1,
   "metadata": {},
   "outputs": [
    {
     "name": "stdout",
     "output_type": "stream",
     "text": [
      "Введите номер месяца года: 4\n",
      "весна\n"
     ]
    }
   ],
   "source": [
    "# Написать функцию season, принимающую 1 аргумент — номер месяца (от 1 до 12), \n",
    "# и возвращающую время года, которому этот месяц принадлежит (зима, весна, лето или осень).\n",
    "def season (m):\n",
    "    if  3 <= m <= 5:\n",
    "        return (\"весна\")\n",
    "    elif 6 <= m <= 8:\n",
    "        return (\"лето\")\n",
    "    elif 9 <= m <= 11:\n",
    "        return (\"осень\")\n",
    "    elif m == 12 or m == 1 or m == 2:\n",
    "        return (\"зима\")\n",
    "    else:\n",
    "        return (\"Такого месяца нет.\")\n",
    "\n",
    "print (season (int(input(\"Введите номер месяца года: \"))))"
   ]
  },
  {
   "cell_type": "code",
   "execution_count": 3,
   "metadata": {},
   "outputs": [
    {
     "name": "stdout",
     "output_type": "stream",
     "text": [
      "Введите год 1992\n",
      "Год високосный\n"
     ]
    }
   ],
   "source": [
    "# Написать функцию is_year_leap, принимающую 1 аргумент — год, и возвращающую True, если год високосный, и False иначе.\n",
    "year = int(input('Введите год '))\n",
    "\n",
    "def year_is_leap(year):\n",
    "#Високосный год всегда делится на 4.\n",
    "    if year % 4 != 0:\n",
    "        result = 'Год обычный'\n",
    "#Однако существуют исключения, если год делиться на 4 и 100 без остатка он не високосный (Например 1900), \n",
    "# но если он делиться на 4, 100 и 400 без остатка он високосный.\n",
    "    elif year % 100 == 0:\n",
    "        if year % 400 == 0:\n",
    "            result = 'Год високосный'\n",
    "        else:\n",
    "            result = 'Год обычный'\n",
    "    else:\n",
    "        result = 'Год високосный'\n",
    "    return result\n",
    "finish = year_is_leap(year)\n",
    "\n",
    "print(finish)"
   ]
  },
  {
   "cell_type": "code",
   "execution_count": 16,
   "metadata": {},
   "outputs": [
    {
     "name": "stdout",
     "output_type": "stream",
     "text": [
      "Введите первое число: 2\n",
      "Введите второе число: 6\n",
      "Введите операцию: +\n",
      "8\n"
     ]
    }
   ],
   "source": [
    "#Написать функцию arithmetic, принимающую 3 аргумента: первые 2 - числа, третий - операция, \n",
    "#которая должна быть произведена над ними. Если третий аргумент +, сложить их; если —, то вычесть; * — умножить;\n",
    "#/ — разделить (первое на второе). В остальных случаях вернуть строку \"Неизвестная операция\".\n",
    "\n",
    "def arithmetic(first, sec, operation):\n",
    "        return eval(first + operation + sec)\n",
    "\n",
    "first = input('Введите первое число: ')\n",
    "sec = input('Введите второе число: ')\n",
    "operation = input('Введите операцию: ')\n",
    "\n",
    "\n",
    "print(arithmetic(first, sec, operation))"
   ]
  },
  {
   "cell_type": "code",
   "execution_count": null,
   "metadata": {},
   "outputs": [],
   "source": [
    "\n",
    "if operation == (\"/\") and sec == 0:\n",
    "        print(\"На ноль делить нельзя\")"
   ]
  },
  {
   "cell_type": "code",
   "execution_count": 13,
   "metadata": {},
   "outputs": [],
   "source": [
    "# в строке заменить пробелы символом *"
   ]
  },
  {
   "cell_type": "code",
   "execution_count": 14,
   "metadata": {},
   "outputs": [
    {
     "name": "stdout",
     "output_type": "stream",
     "text": [
      "простота и универсальность делают его одним из лучших языков программирования\n",
      "простота*и*универсальность*делают*его*одним*из*лучших*языков*программирования!\n"
     ]
    }
   ],
   "source": [
    "# 1 способ\n",
    "s = input()\n",
    "\n",
    "i = 0\n",
    "while s[i] == ' ':\n",
    "    i += 1\n",
    "s = s[i:]\n",
    "\n",
    "i = len(s)\n",
    "while s[i - 1] == ' ': \n",
    "    i -= 1\n",
    "s = s[:i]\n",
    "\n",
    "s_new = s[0]\n",
    "i = 1\n",
    "while i < len(s):\n",
    "    if s[i] != ' ':\n",
    "        s_new += s[i]\n",
    "    elif s[i - 1] != ' ':\n",
    "        s_new += '*'\n",
    "    i += 1\n",
    "print(s_new + '!')"
   ]
  },
  {
   "cell_type": "code",
   "execution_count": 15,
   "metadata": {},
   "outputs": [
    {
     "name": "stdout",
     "output_type": "stream",
     "text": [
      "простота и универсальность делают его одним из лучших языков программирования\n",
      "простота*и*универсальность*делают*его*одним*из*лучших*языков*программирования\n"
     ]
    }
   ],
   "source": [
    "# 2 способ\n",
    "s = input()\n",
    "l = s.split()\n",
    "s1 = '*'.join(l)  \n",
    "print(s1)"
   ]
  },
  {
   "cell_type": "code",
   "execution_count": 17,
   "metadata": {},
   "outputs": [
    {
     "name": "stdout",
     "output_type": "stream",
     "text": [
      "Длина первого катета: 5.4\n",
      "Длина второго катета: 2.3\n",
      "Площадь треугольника: 6.21\n",
      "Периметр треугольника: 13.57\n"
     ]
    }
   ],
   "source": [
    "# Найти площадь и периметр прямоугольного треугольника\n",
    "import math\n",
    "\n",
    "AB = input(\"Длина первого катета: \")\n",
    "AC = input(\"Длина второго катета: \")\n",
    "\n",
    "AB = float(AB)\n",
    "AC = float(AC)\n",
    "\n",
    "BC = math.sqrt(AB**2 + AC**2)\n",
    "\n",
    "S = (AB * AC) / 2\n",
    "P = AB + AC + BC\n",
    "\n",
    "print(\"Площадь треугольника: %.2f\" % S)\n",
    "print(\"Периметр треугольника: %.2f\" % P)"
   ]
  },
  {
   "cell_type": "code",
   "execution_count": 18,
   "metadata": {},
   "outputs": [],
   "source": [
    "# Алгоритм Евклида - нахождение наибольшего общего делителя"
   ]
  },
  {
   "cell_type": "code",
   "execution_count": 19,
   "metadata": {},
   "outputs": [
    {
     "name": "stdout",
     "output_type": "stream",
     "text": [
      "10\n"
     ]
    }
   ],
   "source": [
    "# делением\n",
    "a = 50\n",
    "b = 130\n",
    "\n",
    "while a != 0 and b != 0:\n",
    "    if a > b:\n",
    "        a = a % b\n",
    "    else:\n",
    "        b = b % a\n",
    "\n",
    "print(a + b)"
   ]
  },
  {
   "cell_type": "code",
   "execution_count": 28,
   "metadata": {},
   "outputs": [
    {
     "name": "stdout",
     "output_type": "stream",
     "text": [
      "Введите 1 число: 50\n",
      "Введите 2 число: 130\n",
      "10\n"
     ]
    }
   ],
   "source": [
    "# вычитанием\n",
    "a = int(input('Введите 1 число: '))\n",
    "b = int(input('Введите 2 число: '))\n",
    "\n",
    "while a != b:\n",
    "    if a > b:\n",
    "        a = a - b\n",
    "    else:\n",
    "        b = b - a\n",
    "\n",
    "print(a)"
   ]
  },
  {
   "cell_type": "code",
   "execution_count": 27,
   "metadata": {},
   "outputs": [
    {
     "name": "stdout",
     "output_type": "stream",
     "text": [
      "Введите 1 число: 50\n",
      "Введите 2 число: 130\n",
      "None\n"
     ]
    }
   ],
   "source": [
    "# Функция вычисления НОД\n",
    "a = int(input('Введите 1 число: '))\n",
    "b = int(input('Введите 2 число: '))\n",
    "def gcd(a, b):\n",
    "    while a != b:\n",
    "        if a > b:\n",
    "            a = a - b\n",
    "        else:\n",
    "            b = b - a        \n",
    "print(gcd(a, b))"
   ]
  },
  {
   "cell_type": "code",
   "execution_count": null,
   "metadata": {},
   "outputs": [],
   "source": []
  }
 ],
 "metadata": {
  "kernelspec": {
   "display_name": "Python 3",
   "language": "python",
   "name": "python3"
  },
  "language_info": {
   "codemirror_mode": {
    "name": "ipython",
    "version": 3
   },
   "file_extension": ".py",
   "mimetype": "text/x-python",
   "name": "python",
   "nbconvert_exporter": "python",
   "pygments_lexer": "ipython3",
   "version": "3.8.3"
  }
 },
 "nbformat": 4,
 "nbformat_minor": 4
}
