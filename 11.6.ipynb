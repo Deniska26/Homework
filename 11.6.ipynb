{
 "cells": [
  {
   "cell_type": "code",
   "execution_count": 1,
   "metadata": {},
   "outputs": [
    {
     "name": "stdout",
     "output_type": "stream",
     "text": [
      "1\n",
      "2\n",
      "3\n",
      "4\n",
      "5\n"
     ]
    }
   ],
   "source": [
    "a = 1\n",
    "while a<=5:\n",
    "    print (a)\n",
    "    a+=1"
   ]
  },
  {
   "cell_type": "code",
   "execution_count": 2,
   "metadata": {},
   "outputs": [
    {
     "name": "stdout",
     "output_type": "stream",
     "text": [
      "16\n"
     ]
    }
   ],
   "source": [
    "i = 0\n",
    "while i <=10:\n",
    "    i +=1\n",
    "    if i > 7:\n",
    "        i *=2\n",
    "print (i)"
   ]
  },
  {
   "cell_type": "code",
   "execution_count": 3,
   "metadata": {},
   "outputs": [
    {
     "name": "stdout",
     "output_type": "stream",
     "text": [
      "b = 0\n",
      "---\n",
      "1\n",
      "---\n",
      "2\n",
      "3\n",
      "Конец\n"
     ]
    }
   ],
   "source": [
    "a = 1\n",
    "b = 0\n",
    "while True:\n",
    "    if b == 0:\n",
    "        print ('b = 0')\n",
    "    else:\n",
    "        print (a)\n",
    "        a += 1\n",
    "    b += 1\n",
    "    if b == 3:\n",
    "        continue\n",
    "    if b == 4:\n",
    "        break\n",
    "    print ('---')\n",
    "print ('Конец')"
   ]
  },
  {
   "cell_type": "code",
   "execution_count": 4,
   "metadata": {},
   "outputs": [
    {
     "name": "stdout",
     "output_type": "stream",
     "text": [
      "1\n",
      "2\n",
      "3\n",
      "Конец\n"
     ]
    }
   ],
   "source": [
    "i = 0\n",
    "while i < 3:\n",
    "    i += 1\n",
    "    print (i)\n",
    "else:\n",
    "    print ('Конец')"
   ]
  },
  {
   "cell_type": "code",
   "execution_count": 6,
   "metadata": {},
   "outputs": [
    {
     "name": "stdout",
     "output_type": "stream",
     "text": [
      "1\n",
      "2\n",
      "3\n"
     ]
    }
   ],
   "source": [
    "i = 0\n",
    "while True:\n",
    "    i += 1\n",
    "    print (i)\n",
    "    if i == 3:\n",
    "        break\n",
    "else:\n",
    "    print ('Крнец')"
   ]
  },
  {
   "cell_type": "code",
   "execution_count": 13,
   "metadata": {},
   "outputs": [
    {
     "name": "stdout",
     "output_type": "stream",
     "text": [
      "123654789654123\n",
      "Число не простое\n"
     ]
    }
   ],
   "source": [
    "number = int (input())\n",
    "divisor = 2\n",
    "while number % divisor !=0:\n",
    "    divisor += 1\n",
    "if divisor == number:\n",
    "    print ('Число простое')\n",
    "else:\n",
    "    print ('Число не простое')"
   ]
  },
  {
   "cell_type": "code",
   "execution_count": 14,
   "metadata": {},
   "outputs": [
    {
     "name": "stdout",
     "output_type": "stream",
     "text": [
      "123654789654123\n",
      "Не простое\n"
     ]
    }
   ],
   "source": [
    "number = int (input())\n",
    "if number %2 == 0:\n",
    "    divisor = 2\n",
    "else:\n",
    "    divisor = 3\n",
    "    while number %divisor !=0:\n",
    "        divisor +=2\n",
    "if divisor == number:\n",
    "    print ('Простое')\n",
    "else:\n",
    "    print ('Не простое')\n",
    "    "
   ]
  },
  {
   "cell_type": "code",
   "execution_count": 16,
   "metadata": {},
   "outputs": [
    {
     "name": "stdout",
     "output_type": "stream",
     "text": [
      "123654789987456321\n",
      "Не простое\n"
     ]
    }
   ],
   "source": [
    "number = int (input())\n",
    "if number %2 == 0:\n",
    "    divisor = 2\n",
    "else:\n",
    "    divisor = 3\n",
    "    while divisor **2 <= number and number % divisor !=0:\n",
    "        divisor +=2\n",
    "if divisor == number:\n",
    "    print ('Простое')\n",
    "else:\n",
    "    print ('Не простое')"
   ]
  },
  {
   "cell_type": "code",
   "execution_count": null,
   "metadata": {},
   "outputs": [],
   "source": []
  }
 ],
 "metadata": {
  "kernelspec": {
   "display_name": "Python 3",
   "language": "python",
   "name": "python3"
  },
  "language_info": {
   "codemirror_mode": {
    "name": "ipython",
    "version": 3
   },
   "file_extension": ".py",
   "mimetype": "text/x-python",
   "name": "python",
   "nbconvert_exporter": "python",
   "pygments_lexer": "ipython3",
   "version": "3.8.3"
  }
 },
 "nbformat": 4,
 "nbformat_minor": 4
}
