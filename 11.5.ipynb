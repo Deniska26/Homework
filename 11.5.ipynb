{
 "cells": [
  {
   "cell_type": "code",
   "execution_count": 1,
   "metadata": {},
   "outputs": [
    {
     "name": "stdout",
     "output_type": "stream",
     "text": [
      "False\n"
     ]
    }
   ],
   "source": [
    "a = 10 ** 2\n",
    "b = 2 ** 10\n",
    "print(a>b)"
   ]
  },
  {
   "cell_type": "code",
   "execution_count": 2,
   "metadata": {},
   "outputs": [
    {
     "name": "stdout",
     "output_type": "stream",
     "text": [
      "False\n"
     ]
    }
   ],
   "source": [
    "a=5\n",
    "b=10\n",
    "print(b>a*a or b>=3*a and a>b)"
   ]
  },
  {
   "cell_type": "code",
   "execution_count": 3,
   "metadata": {},
   "outputs": [
    {
     "name": "stdout",
     "output_type": "stream",
     "text": [
      "Уравнения равны\n"
     ]
    }
   ],
   "source": [
    "a = 3\n",
    "b = 4\n",
    "y = 4 * a**2 + 4 * a * b + b**2\n",
    "x = (2 * a + b) **2\n",
    "if y==x:\n",
    "    print ('Уравнения равны')\n",
    "else:\n",
    "    print ('Уравнения не равны')"
   ]
  },
  {
   "cell_type": "code",
   "execution_count": 4,
   "metadata": {},
   "outputs": [
    {
     "name": "stdout",
     "output_type": "stream",
     "text": [
      "5\n",
      "Нечетное число\n"
     ]
    }
   ],
   "source": [
    "a = int(input())\n",
    "if a %2 == 0:\n",
    "    print ('Четное число')\n",
    "else:\n",
    "    print ('Нечетное число')"
   ]
  },
  {
   "cell_type": "code",
   "execution_count": 8,
   "metadata": {},
   "outputs": [
    {
     "name": "stdout",
     "output_type": "stream",
     "text": [
      "1.2\n",
      "Дробное число\n"
     ]
    }
   ],
   "source": [
    "a = float(input())\n",
    "if a %1 == 0:\n",
    "    print ('Целое число')\n",
    "else:\n",
    "    print ('Дробное число')"
   ]
  },
  {
   "cell_type": "code",
   "execution_count": 9,
   "metadata": {},
   "outputs": [
    {
     "name": "stdout",
     "output_type": "stream",
     "text": [
      "текст-3\n"
     ]
    }
   ],
   "source": [
    "a = 10\n",
    "b = 5\n",
    "c = 2\n",
    "d = 1\n",
    "\n",
    "if a > b:\n",
    "    if d <= 1:\n",
    "        if c == 3:\n",
    "            print ('текст')\n",
    "        else:\n",
    "            if a == 11:\n",
    "                print ('текст-2')\n",
    "            else:\n",
    "                print ('текст-3')\n",
    "    else:\n",
    "        print ('текст-4')\n",
    "else:\n",
    "    print ('текст-5')"
   ]
  },
  {
   "cell_type": "code",
   "execution_count": 10,
   "metadata": {},
   "outputs": [
    {
     "name": "stdout",
     "output_type": "stream",
     "text": [
      "текст 3\n"
     ]
    }
   ],
   "source": [
    "a = 10\n",
    "b = 5\n",
    "c = 2\n",
    "d = 1\n",
    "if a>b:\n",
    "    if d<=1:\n",
    "        if c==3:\n",
    "            print ('текст')\n",
    "        elif a ==11:\n",
    "            print ('текст 2')\n",
    "        else:\n",
    "            print ('текст 3')\n",
    "    else:\n",
    "        print ('текст 4')\n",
    "else:\n",
    "    print ('текст 5')"
   ]
  },
  {
   "cell_type": "code",
   "execution_count": null,
   "metadata": {},
   "outputs": [],
   "source": []
  }
 ],
 "metadata": {
  "kernelspec": {
   "display_name": "Python 3",
   "language": "python",
   "name": "python3"
  },
  "language_info": {
   "codemirror_mode": {
    "name": "ipython",
    "version": 3
   },
   "file_extension": ".py",
   "mimetype": "text/x-python",
   "name": "python",
   "nbconvert_exporter": "python",
   "pygments_lexer": "ipython3",
   "version": "3.8.3"
  }
 },
 "nbformat": 4,
 "nbformat_minor": 4
}
