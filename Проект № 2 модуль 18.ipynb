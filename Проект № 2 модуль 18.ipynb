{
 "cells": [
  {
   "cell_type": "code",
   "execution_count": null,
   "metadata": {},
   "outputs": [],
   "source": [
    "# Задание: в строке заменить пробелы символом *, предоставить решение двумя способами"
   ]
  },
  {
   "cell_type": "code",
   "execution_count": null,
   "metadata": {},
   "outputs": [],
   "source": [
    "# 1 способ\n",
    "s = input()\n",
    "\n",
    "i = 0\n",
    "while s[i] == ' ':\n",
    "    i += 1\n",
    "s = s[i:]\n",
    "\n",
    "i = len(s)\n",
    "while s[i - 1] == ' ': \n",
    "    i -= 1\n",
    "s = s[:i]\n",
    "\n",
    "s_new = s[0]\n",
    "i = 1\n",
    "while i < len(s):\n",
    "    if s[i] != ' ':\n",
    "        s_new += s[i]\n",
    "    elif s[i - 1] != ' ':\n",
    "        s_new += '*'\n",
    "    i += 1\n",
    "print(s_new + '!')"
   ]
  },
  {
   "cell_type": "code",
   "execution_count": null,
   "metadata": {},
   "outputs": [],
   "source": [
    "# 2 способ\n",
    "s = input()\n",
    "l = s.split()\n",
    "s1 = '*'.join(l)  \n",
    "print(s1)"
   ]
  },
  {
   "cell_type": "code",
   "execution_count": null,
   "metadata": {},
   "outputs": [],
   "source": [
    "# Задание: найти площадь и периметр прямоугольного треугольника с применением модуля math"
   ]
  },
  {
   "cell_type": "code",
   "execution_count": null,
   "metadata": {},
   "outputs": [],
   "source": [
    "import math\n",
    "\n",
    "AB = input(\"Длина первого катета: \")\n",
    "AC = input(\"Длина второго катета: \")\n",
    "\n",
    "AB = float(AB)\n",
    "AC = float(AC)\n",
    "\n",
    "BC = math.sqrt(AB**2 + AC**2)\n",
    "\n",
    "S = (AB * AC) / 2\n",
    "P = AB + AC + BC\n",
    "\n",
    "print(\"Площадь треугольника: %.2f\" % S)\n",
    "print(\"Периметр треугольника: %.2f\" % P)"
   ]
  },
  {
   "cell_type": "code",
   "execution_count": null,
   "metadata": {},
   "outputs": [],
   "source": [
    "# Задание: дан файл JSON, в котором есть список питомцев. Нужно отсортировать питомцев по породе и возрасту"
   ]
  },
  {
   "cell_type": "code",
   "execution_count": null,
   "metadata": {},
   "outputs": [],
   "source": [
    "import json\n",
    "\n",
    "with open('mypets.json', encoding=\"utf8\") as f:\n",
    "    pets = json.load(f)\n",
    "\n",
    "pets = sorted(sorted(pets, key=lambda s: s[\"Порода\"]),key=lambda s: s[\"возраст\"])\n",
    "pets"
   ]
  }
 ],
 "metadata": {
  "kernelspec": {
   "display_name": "Python 3",
   "language": "python",
   "name": "python3"
  },
  "language_info": {
   "codemirror_mode": {
    "name": "ipython",
    "version": 3
   },
   "file_extension": ".py",
   "mimetype": "text/x-python",
   "name": "python",
   "nbconvert_exporter": "python",
   "pygments_lexer": "ipython3",
   "version": "3.8.3"
  }
 },
 "nbformat": 4,
 "nbformat_minor": 4
}
