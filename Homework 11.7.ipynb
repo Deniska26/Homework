{
 "cells": [
  {
   "cell_type": "code",
   "execution_count": 14,
   "metadata": {},
   "outputs": [
    {
     "name": "stdout",
     "output_type": "stream",
     "text": [
      "Введите сторону А 3\n",
      "Введите сторону B 4\n",
      "Введите сторону C 5\n",
      "Площадь треугольника: 6\n"
     ]
    }
   ],
   "source": [
    "a = float(input('Введите сторону А '))\n",
    "b = float(input('Введите сторону B '))\n",
    "c = float(input('Введите сторону C '))\n",
    "p = (a+b+c)/2\n",
    "S = (p * (p-a) * (p-b) * (p-c)) **0.5\n",
    "print (f'Площадь треугольника: {round(S)}')"
   ]
  },
  {
   "cell_type": "code",
   "execution_count": 4,
   "metadata": {},
   "outputs": [
    {
     "name": "stdout",
     "output_type": "stream",
     "text": [
      "Введите сторону А 0.014\n",
      "Введите сторону B 0.02\n",
      "Введите сторону C 0.0119\n",
      "Площадь треугольника: 8.18267e-05\n"
     ]
    }
   ],
   "source": [
    "a = float(input('Введите сторону А '))\n",
    "b = float(input('Введите сторону B '))\n",
    "c = float(input('Введите сторону C '))\n",
    "p = (a+b+c)/2\n",
    "S = (p * (p-a) * (p-b) * (p-c)) **0.5\n",
    "print (f'Площадь треугольника: {round(S,10)}')"
   ]
  },
  {
   "cell_type": "code",
   "execution_count": 5,
   "metadata": {},
   "outputs": [
    {
     "name": "stdout",
     "output_type": "stream",
     "text": [
      "-1\n"
     ]
    }
   ],
   "source": [
    "a = 'Neque porro quisquam est qui dolorem ipsum quia dolor sit amet, consectetur, adipisci velit'\n",
    "print(a.find('string'))"
   ]
  },
  {
   "cell_type": "code",
   "execution_count": 13,
   "metadata": {},
   "outputs": [
    {
     "name": "stdout",
     "output_type": "stream",
     "text": [
      "Введите год 2016\n",
      "Високосный год\n"
     ]
    }
   ],
   "source": [
    "year = int(input('Введите год '))\n",
    "if year %400 ==0 or (year %4 ==0 and year %100 !=0):\n",
    "    year_print = 'Високосный год'\n",
    "else:\n",
    "    year_print = 'Обычный год'\n",
    "print(year_print)"
   ]
  },
  {
   "cell_type": "code",
   "execution_count": 17,
   "metadata": {},
   "outputs": [
    {
     "name": "stdout",
     "output_type": "stream",
     "text": [
      "Введите сумму вклада 1000\n",
      "Введите срок вклада от 1 до 36 месяцев 5\n",
      "Количество денег за  5  месяцев составит 1017.54 рублей\n"
     ]
    }
   ],
   "source": [
    "C = int (input('Введите сумму вклада '))\n",
    "n = int (input('Введите срок вклада от 1 до 36 месяцев '))\n",
    "S = C\n",
    "for i in range (n):\n",
    "    S = S*4.18/100/12+S\n",
    "print (f'Количество денег за ', n, ' месяцев составит', round(S,2), 'рублей')"
   ]
  },
  {
   "cell_type": "code",
   "execution_count": 19,
   "metadata": {},
   "outputs": [
    {
     "name": "stdout",
     "output_type": "stream",
     "text": [
      "Введите сумму вклада: 1000\n",
      "Введите месяц: 5\n",
      "1017\n"
     ]
    }
   ],
   "source": [
    "summ = int(input(\"Введите сумму вклада: \"))\n",
    "month = int(input(\"Введите месяц: \"))\n",
    "\n",
    "i = 0\n",
    "\n",
    "while i < month:\n",
    "    summ += summ * (4.18/100 / 12)\n",
    "    i += 1\n",
    "\n",
    "print (int(summ))"
   ]
  },
  {
   "cell_type": "code",
   "execution_count": null,
   "metadata": {},
   "outputs": [],
   "source": []
  }
 ],
 "metadata": {
  "kernelspec": {
   "display_name": "Python 3",
   "language": "python",
   "name": "python3"
  },
  "language_info": {
   "codemirror_mode": {
    "name": "ipython",
    "version": 3
   },
   "file_extension": ".py",
   "mimetype": "text/x-python",
   "name": "python",
   "nbconvert_exporter": "python",
   "pygments_lexer": "ipython3",
   "version": "3.8.3"
  }
 },
 "nbformat": 4,
 "nbformat_minor": 4
}
