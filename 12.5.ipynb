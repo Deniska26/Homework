{
 "cells": [
  {
   "cell_type": "code",
   "execution_count": 2,
   "metadata": {},
   "outputs": [
    {
     "name": "stdout",
     "output_type": "stream",
     "text": [
      "{'ключ1': 123, 'name': 'aaa'}\n"
     ]
    }
   ],
   "source": [
    "a = {'ключ1': 123, 'name': 'aaa'}\n",
    "print (a)"
   ]
  },
  {
   "cell_type": "code",
   "execution_count": 3,
   "metadata": {},
   "outputs": [
    {
     "name": "stdout",
     "output_type": "stream",
     "text": [
      "123\n"
     ]
    }
   ],
   "source": [
    "print (a['ключ1'])"
   ]
  },
  {
   "cell_type": "code",
   "execution_count": 4,
   "metadata": {},
   "outputs": [
    {
     "name": "stdout",
     "output_type": "stream",
     "text": [
      "{'ключ2': 2, 'name': 'ooo'}\n"
     ]
    }
   ],
   "source": [
    "b = dict(ключ2=2, name='ooo')\n",
    "print (b)"
   ]
  },
  {
   "cell_type": "code",
   "execution_count": 5,
   "metadata": {},
   "outputs": [
    {
     "name": "stdout",
     "output_type": "stream",
     "text": [
      "ooo\n"
     ]
    }
   ],
   "source": [
    "print (b['name'])"
   ]
  },
  {
   "cell_type": "code",
   "execution_count": 8,
   "metadata": {},
   "outputs": [
    {
     "data": {
      "text/plain": [
       "dict"
      ]
     },
     "execution_count": 8,
     "metadata": {},
     "output_type": "execute_result"
    }
   ],
   "source": [
    "a = {}\n",
    "type (a)"
   ]
  },
  {
   "cell_type": "code",
   "execution_count": 13,
   "metadata": {},
   "outputs": [
    {
     "name": "stdout",
     "output_type": "stream",
     "text": [
      "aaa \n",
      "None\n"
     ]
    }
   ],
   "source": [
    "a = {'ключ1': 123, 'name': 'aaa', 'новый ключ': [1,2,3]}\n",
    "print (f\"{a['name']} \\n{a.get('111')}\")"
   ]
  },
  {
   "cell_type": "code",
   "execution_count": 14,
   "metadata": {},
   "outputs": [
    {
     "name": "stdout",
     "output_type": "stream",
     "text": [
      "aaa \n",
      "[1, 2, 3]\n"
     ]
    }
   ],
   "source": [
    "print (f\"{a['name']} \\n{a.get('новый ключ')}\")"
   ]
  },
  {
   "cell_type": "code",
   "execution_count": 15,
   "metadata": {},
   "outputs": [
    {
     "name": "stdout",
     "output_type": "stream",
     "text": [
      "('новый ключ', [1, 2, 3]) \n",
      "{'ключ1': 123, 'name': 'aaa'}\n"
     ]
    }
   ],
   "source": [
    "print (f\"{a.popitem()} \\n{a}\")"
   ]
  },
  {
   "cell_type": "code",
   "execution_count": 18,
   "metadata": {},
   "outputs": [
    {
     "name": "stdout",
     "output_type": "stream",
     "text": [
      "Иван\n",
      "('date', '1989-02-21')\n"
     ]
    }
   ],
   "source": [
    "a = {'name': 'Иван', 'sex': 'men', 'date': '1989-02-21'}\n",
    "print (a.get('name'))\n",
    "print (a.popitem())"
   ]
  },
  {
   "cell_type": "code",
   "execution_count": 19,
   "metadata": {},
   "outputs": [],
   "source": [
    "a = {'ключ1': 123, 'name': 'aaa', 'новый ключ': [1,2,3]}"
   ]
  },
  {
   "cell_type": "code",
   "execution_count": 20,
   "metadata": {},
   "outputs": [
    {
     "name": "stdout",
     "output_type": "stream",
     "text": [
      "dict_keys(['ключ1', 'name', 'новый ключ'])\n",
      "\n",
      "ключ1\n",
      "name\n",
      "новый ключ\n"
     ]
    }
   ],
   "source": [
    "keys = a.keys()\n",
    "print (keys, end='\\n\\n')\n",
    "\n",
    "for i in keys:\n",
    "    print (i)"
   ]
  },
  {
   "cell_type": "code",
   "execution_count": 21,
   "metadata": {},
   "outputs": [
    {
     "name": "stdout",
     "output_type": "stream",
     "text": [
      "dict_values([123, 'aaa', [1, 2, 3]])\n",
      "\n",
      "123\n",
      "aaa\n",
      "[1, 2, 3]\n"
     ]
    }
   ],
   "source": [
    "values = a.values()\n",
    "print (values, end='\\n\\n')\n",
    "\n",
    "for i in values:\n",
    "    print (i)"
   ]
  },
  {
   "cell_type": "code",
   "execution_count": 22,
   "metadata": {},
   "outputs": [
    {
     "name": "stdout",
     "output_type": "stream",
     "text": [
      "dict_items([('ключ1', 123), ('name', 'aaa'), ('новый ключ', [1, 2, 3])])\n",
      "\n",
      "('ключ1', 123)\n",
      "('name', 'aaa')\n",
      "('новый ключ', [1, 2, 3])\n"
     ]
    }
   ],
   "source": [
    "items = a.items()\n",
    "print (items, end='\\n\\n')\n",
    "\n",
    "for i in items:\n",
    "    print (i)"
   ]
  },
  {
   "cell_type": "code",
   "execution_count": null,
   "metadata": {},
   "outputs": [],
   "source": []
  }
 ],
 "metadata": {
  "kernelspec": {
   "display_name": "Python 3",
   "language": "python",
   "name": "python3"
  },
  "language_info": {
   "codemirror_mode": {
    "name": "ipython",
    "version": 3
   },
   "file_extension": ".py",
   "mimetype": "text/x-python",
   "name": "python",
   "nbconvert_exporter": "python",
   "pygments_lexer": "ipython3",
   "version": "3.8.3"
  }
 },
 "nbformat": 4,
 "nbformat_minor": 4
}
