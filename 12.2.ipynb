{
 "cells": [
  {
   "cell_type": "code",
   "execution_count": 1,
   "metadata": {},
   "outputs": [
    {
     "name": "stdout",
     "output_type": "stream",
     "text": [
      "567567567"
     ]
    }
   ],
   "source": [
    "a = [1, 2, 3]\n",
    "b = ['5', '6', '7']\n",
    "for i in a:\n",
    "    for j in b:\n",
    "        print (j, end='')"
   ]
  },
  {
   "cell_type": "code",
   "execution_count": 2,
   "metadata": {},
   "outputs": [
    {
     "name": "stdout",
     "output_type": "stream",
     "text": [
      "[[1, 2, 3], [4, 5, 6], [7, 8, 9], [10, 11, 12]]\n"
     ]
    }
   ],
   "source": [
    "a = []\n",
    "t = 1\n",
    "for i in range (1, 5):\n",
    "    b = []\n",
    "    for j in range (t, t+3):\n",
    "        b.append (j)\n",
    "    t += 3\n",
    "    a.append (b)\n",
    "        \n",
    "print (a)"
   ]
  },
  {
   "cell_type": "code",
   "execution_count": 5,
   "metadata": {},
   "outputs": [
    {
     "name": "stdout",
     "output_type": "stream",
     "text": [
      "Самый встречающийся знак в тексте: \"e\"\n"
     ]
    }
   ],
   "source": [
    "text = \"\"\"Lorem ipsum dolor sit amet, consectetur adipiscing elit. Vestibulum eget tempus est. Phasellus sit amet \n",
    "tristique neque. Sed luctus mi ut nisi suscipit placerat. Nunc nec diam dapibus, fermentum risus ut, ultrices orci. \n",
    "Integer non magna molestie nibh dapibus tincidunt. Quisque quis est quam. Sed dictum mi sit amet magna pretium blandit. \n",
    "Nulla tortor turpis, maximus vitae lobortis quis, varius sed metus. Nullam at congue metus. Pellentesque scelerisque, dui \n",
    "et luctus semper, odio diam scelerisque justo, nec tempor ex metus et enim. Praesent rhoncus nisl eget risus elementum ornare. \n",
    "Praesent tellus mauris, viverra vitae malesuada at, ornare id nisi. Vestibulum.\"\"\"\n",
    "\n",
    "text = text.replace(\" \", \"\").lower()\n",
    "most_common = None\n",
    "qty_most_common = 0\n",
    "\n",
    "for item in text:\n",
    "    qty=text.count(item)\n",
    "    if qty > qty_most_common:\n",
    "        qty_most_common = qty\n",
    "        most_common = item\n",
    "        \n",
    "print (f'Самый встречающийся знак в тексте: \"{most_common}\"')"
   ]
  },
  {
   "cell_type": "code",
   "execution_count": 43,
   "metadata": {},
   "outputs": [
    {
     "name": "stdout",
     "output_type": "stream",
     "text": [
      "Самый встречающийся знак в тексте: \"e\"\n",
      "Второй по частоте знак в тексте: \"s\"\n"
     ]
    }
   ],
   "source": [
    "text = \"\"\"Lorem ipsum dolor sit amet, consectetur adipiscing elit. Vestibulum eget tempus est. Phasellus sit amet \n",
    "tristique neque. Sed luctus mi ut nisi suscipit placerat. Nunc nec diam dapibus, fermentum risus ut, ultrices orci. \n",
    "Integer non magna molestie nibh dapibus tincidunt. Quisque quis est quam. Sed dictum mi sit amet magna pretium blandit. \n",
    "Nulla tortor turpis, maximus vitae lobortis quis, varius sed metus. Nullam at congue metus. Pellentesque scelerisque, dui \n",
    "et luctus semper, odio diam scelerisque justo, nec tempor ex metus et enim. Praesent rhoncus nisl eget risus elementum ornare. \n",
    "Praesent tellus mauris, viverra vitae malesuada at, ornare id nisi. Vestibulum.\"\"\".replace(\" \", \"\").lower()\n",
    "\n",
    "most_common = None\n",
    "qty_most_common = 0\n",
    "\n",
    "for item in text:\n",
    "    qty=text.count(item)\n",
    "    if qty > qty_most_common:\n",
    "        qty_most_common = qty\n",
    "        most_common = item\n",
    "        \n",
    "print (f'Самый встречающийся знак в тексте: \"{most_common}\"')\n",
    "\n",
    "second_common = None\n",
    "qty_second_common = 0\n",
    "\n",
    "for item in text:\n",
    "    if item == most_common:\n",
    "        continue\n",
    "    qty = text.count(item)\n",
    "    if qty > qty_second_common:\n",
    "        qty_second_common = qty\n",
    "        second_common = item\n",
    "        \n",
    "print(f'Второй по частоте знак в тексте: \"{second_common}\"')"
   ]
  },
  {
   "cell_type": "code",
   "execution_count": 35,
   "metadata": {},
   "outputs": [
    {
     "name": "stdout",
     "output_type": "stream",
     "text": [
      "Самый встречающийся знак в тексте: \"2\"\n"
     ]
    }
   ],
   "source": [
    "text = [1, 2, 2, 1, 5, 6, 2, 4, 5, 6, 8, 9, 100]\n",
    "\n",
    "text_set = set (text)\n",
    "\n",
    "most_common = None\n",
    "qty_most_common = 0\n",
    "\n",
    "for item in text_set:\n",
    "    qty=text.count(item)\n",
    "    if qty > qty_most_common:\n",
    "        qty_most_common = qty\n",
    "        most_common = item\n",
    "        \n",
    "print (f'Самый встречающийся знак в тексте: \"{most_common}\"')"
   ]
  },
  {
   "cell_type": "code",
   "execution_count": null,
   "metadata": {},
   "outputs": [],
   "source": []
  }
 ],
 "metadata": {
  "kernelspec": {
   "display_name": "Python 3",
   "language": "python",
   "name": "python3"
  },
  "language_info": {
   "codemirror_mode": {
    "name": "ipython",
    "version": 3
   },
   "file_extension": ".py",
   "mimetype": "text/x-python",
   "name": "python",
   "nbconvert_exporter": "python",
   "pygments_lexer": "ipython3",
   "version": "3.8.3"
  }
 },
 "nbformat": 4,
 "nbformat_minor": 4
}
