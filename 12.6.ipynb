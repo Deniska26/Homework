{
 "cells": [
  {
   "cell_type": "code",
   "execution_count": 2,
   "metadata": {},
   "outputs": [
    {
     "name": "stdout",
     "output_type": "stream",
     "text": [
      "20.0\n"
     ]
    }
   ],
   "source": [
    "x = (67+33)/25*(25-20)\n",
    "print (x)"
   ]
  },
  {
   "cell_type": "code",
   "execution_count": 3,
   "metadata": {},
   "outputs": [
    {
     "name": "stdout",
     "output_type": "stream",
     "text": [
      "[[1, 2, 3, 4, 5], [6, 7, 8, 9, 10], [11, 12, 13, 14, 15], [16, 17, 18, 19, 20], [21, 22, 23, 24, 25]]\n"
     ]
    }
   ],
   "source": [
    "a = []\n",
    "t = 1\n",
    "for i in range (1, 6):\n",
    "    b = []\n",
    "    for j in range (t, t+5):\n",
    "        b.append (j)\n",
    "    t += 5\n",
    "    a.append (b)\n",
    "        \n",
    "print (a)"
   ]
  },
  {
   "cell_type": "code",
   "execution_count": 4,
   "metadata": {},
   "outputs": [
    {
     "data": {
      "text/plain": [
       "17"
      ]
     },
     "execution_count": 4,
     "metadata": {},
     "output_type": "execute_result"
    }
   ],
   "source": [
    "a[3][1]"
   ]
  },
  {
   "cell_type": "code",
   "execution_count": 10,
   "metadata": {},
   "outputs": [
    {
     "name": "stdout",
     "output_type": "stream",
     "text": [
      "[[1, 2, 3, 4, 5], [6, 7, 8, 9, 10], [11, 12, 13, 14, 15], [16, 6, 18, 19, 20], [21, 22, 23, 24, 25]]\n"
     ]
    }
   ],
   "source": [
    "a[3][1] = 6\n",
    "print (a)"
   ]
  },
  {
   "cell_type": "code",
   "execution_count": 16,
   "metadata": {},
   "outputs": [
    {
     "name": "stdout",
     "output_type": "stream",
     "text": [
      "{1, 2}\n"
     ]
    }
   ],
   "source": [
    "a = {0, 1, 2, 3, 4, 5, 6, 7, 8, 9}\n",
    "b = {1, 2}\n",
    "c = {6, 7, 8}\n",
    "d = {1}\n",
    "e = {3, 4, 5, 6}\n",
    "print (b.union (d))"
   ]
  },
  {
   "cell_type": "code",
   "execution_count": 18,
   "metadata": {},
   "outputs": [
    {
     "name": "stdout",
     "output_type": "stream",
     "text": [
      "{0, 1, 2, 7, 8, 9}\n"
     ]
    }
   ],
   "source": [
    "print (a.difference (e))"
   ]
  },
  {
   "cell_type": "code",
   "execution_count": 19,
   "metadata": {},
   "outputs": [
    {
     "name": "stdout",
     "output_type": "stream",
     "text": [
      "{1, 2, 6, 7, 8}\n"
     ]
    }
   ],
   "source": [
    "print (b.symmetric_difference (c))"
   ]
  },
  {
   "cell_type": "code",
   "execution_count": 20,
   "metadata": {},
   "outputs": [
    {
     "name": "stdout",
     "output_type": "stream",
     "text": [
      "set()\n"
     ]
    }
   ],
   "source": [
    "print (a.intersection (b, c, d, e))"
   ]
  },
  {
   "cell_type": "code",
   "execution_count": 31,
   "metadata": {},
   "outputs": [],
   "source": [
    "a = {\n",
    "    'firstName': 'Иван',\n",
    "    'lastName': 'Иванов',\n",
    "    'isAlive': True,\n",
    "    'age': 32,\n",
    "    'address':{\n",
    "        'streetAddress': 'Нейбута 32',\n",
    "        'city': 'Владивосток',\n",
    "        'state': '',\n",
    "        'postalCode': ''\n",
    "    },\n",
    "    'phoneNumbers':[\n",
    "        {\n",
    "            'type': 'mob',\n",
    "            'number': '123-333-4455'\n",
    "        },\n",
    "        {\n",
    "         \n",
    "            'type': 'office',\n",
    "            'number': '123-111-4567'   \n",
    "        }\n",
    "    ],\n",
    "    'children':[\n",
    "        \n",
    "    ],\n",
    "    'spouse': None\n",
    "}"
   ]
  },
  {
   "cell_type": "code",
   "execution_count": 32,
   "metadata": {},
   "outputs": [
    {
     "name": "stdout",
     "output_type": "stream",
     "text": [
      "Владивосток\n"
     ]
    }
   ],
   "source": [
    "print(a['address']['city'])"
   ]
  },
  {
   "cell_type": "code",
   "execution_count": 35,
   "metadata": {},
   "outputs": [
    {
     "name": "stdout",
     "output_type": "stream",
     "text": [
      "123-333-4455\n"
     ]
    }
   ],
   "source": [
    "print(a['phoneNumbers'][0]['number'])"
   ]
  },
  {
   "cell_type": "code",
   "execution_count": 36,
   "metadata": {},
   "outputs": [
    {
     "name": "stdout",
     "output_type": "stream",
     "text": [
      "123-111-4567\n"
     ]
    }
   ],
   "source": [
    "print(a['phoneNumbers'][1]['number'])"
   ]
  },
  {
   "cell_type": "code",
   "execution_count": 38,
   "metadata": {},
   "outputs": [
    {
     "name": "stdout",
     "output_type": "stream",
     "text": [
      "не палиндром\n",
      "вотсилатипакалистов\n"
     ]
    }
   ],
   "source": [
    "text = \"\"\"Вот сила капиталистов\"\"\".replace(\" \", \"\").lower()\n",
    "if text == text[::-1]:\n",
    "    print (\"палиндром\")\n",
    "else:\n",
    "    print (\"не палиндром\")\n",
    "print (text[::-1])"
   ]
  },
  {
   "cell_type": "code",
   "execution_count": 41,
   "metadata": {},
   "outputs": [
    {
     "name": "stdout",
     "output_type": "stream",
     "text": [
      "Коту скоро сорок суток\n",
      "палиндром\n",
      "котускоросороксуток\n"
     ]
    }
   ],
   "source": [
    "text = input().replace(\" \", \"\").lower()\n",
    "if text == text[::-1]:\n",
    "    print (\"палиндром\")\n",
    "else:\n",
    "    print (\"не палиндром\")\n",
    "print (text[::-1])"
   ]
  },
  {
   "cell_type": "code",
   "execution_count": 40,
   "metadata": {},
   "outputs": [
    {
     "name": "stdout",
     "output_type": "stream",
     "text": [
      "Коту скоро сорок суток\n",
      "Это палиндром\n"
     ]
    }
   ],
   "source": [
    "string = input().replace(\" \", \"\").lower()\n",
    "\n",
    "for i in range(len(string)//2):\n",
    "    if string[i] != string[-1-i]:\n",
    "        print (\"Это не палиндром\")\n",
    "        break\n",
    "else:\n",
    "    print (\"Это палиндром\")"
   ]
  },
  {
   "cell_type": "code",
   "execution_count": 46,
   "metadata": {},
   "outputs": [
    {
     "name": "stdout",
     "output_type": "stream",
     "text": [
      "Введите email'ы после запятой: example@mail.com,  example@mail.c, example2@mail.com, example@mailcom, example3@mail.com, ex@ample@mail.com\n",
      "{'example@mail.com': True, '  example@mail.c': False, ' example2@mail.com': True, ' example@mailcom': False, ' example3@mail.com': True, ' ex@ample@mail.com': False}\n"
     ]
    }
   ],
   "source": [
    "list_email = input (\"Введите email'ы после запятой: \").split(',')\n",
    "\n",
    "dict_email = {}\n",
    "\n",
    "for i in list_email:\n",
    "    result = False\n",
    "    \n",
    "    if '@' in i and i.count('@') >= 1:\n",
    "        name = i.split('@')[0]\n",
    "        if len(name) >= 2:\n",
    "            domen = i.split('@')[1]\n",
    "            if '.' in domen:\n",
    "                if len(domen.split('.')[0]) >= 2:\n",
    "                    if len(domen.split('.')[-1]) >= 2:\n",
    "                        result = True\n",
    "    dict_email[i] = result\n",
    "    \n",
    "print (dict_email)"
   ]
  },
  {
   "cell_type": "code",
   "execution_count": null,
   "metadata": {},
   "outputs": [],
   "source": []
  }
 ],
 "metadata": {
  "kernelspec": {
   "display_name": "Python 3",
   "language": "python",
   "name": "python3"
  },
  "language_info": {
   "codemirror_mode": {
    "name": "ipython",
    "version": 3
   },
   "file_extension": ".py",
   "mimetype": "text/x-python",
   "name": "python",
   "nbconvert_exporter": "python",
   "pygments_lexer": "ipython3",
   "version": "3.8.3"
  }
 },
 "nbformat": 4,
 "nbformat_minor": 4
}
